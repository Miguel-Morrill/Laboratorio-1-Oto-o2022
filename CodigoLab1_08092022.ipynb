{
 "cells": [
  {
   "cell_type": "code",
   "execution_count": null,
   "metadata": {},
   "outputs": [],
   "source": [
    "# Importar paquetes\n",
    "import pandas_datareader.data as web\n",
    "import pandas as pd\n",
    "import numpy as np\n",
    "%matplotlib inline"
   ]
  },
  {
   "cell_type": "code",
   "execution_count": null,
   "metadata": {},
   "outputs": [],
   "source": [
    "import plotly.io as pio\n",
    "import plotly.graph_objects as go\n",
    "import pandas as pd \n",
    "import numpy as np\n",
    "\n",
    "def backtest_evolution_chart(backtest_df : pd.DataFrame = None, title : str = None):\n",
    "    fig = go.Figure(\n",
    "            data=[\n",
    "                go.Scatter(x = backtest_df.index, y = backtest_df[\"Capital Acumulado\"],name = \"Evolución Capital\"),\n",
    "                go.Scatter(x = backtest_df.index, y = np.array([100000]*len(backtest_df)),name = \"Capital Inicial\"),\n",
    "                go.Bar(x = backtest_df.index, y = backtest_df[\"Capital\"], name = \"Resultado Apuesta\", marker = dict(color = 'rgba(255, 255, 128, 0.5)',line=dict(color='rgb(0,0,0)',width=1.5)),text = backtest_df[\"Operación\"])\n",
    "            ]\n",
    "        )\n",
    "    fig.update_layout(\n",
    "            xaxis_title = \"Timestamp\",\n",
    "            yaxis_title = \"Value\",\n",
    "            legend_title = \"Variable\",\n",
    "            title = title\n",
    "        )\n",
    "    fig.update_xaxes(showspikes=True, spikecolor=\"green\", spikesnap=\"cursor\", spikemode=\"across\")\n",
    "    fig.update_yaxes(showspikes=True, spikecolor=\"orange\", spikethickness=2)\n",
    "    fig.update_layout(spikedistance=1000, hoverdistance=100)\n",
    "    return fig\n",
    "\n",
    "def backtest_strat_result(backtest_df : pd.DataFrame = None,  title : str = None):\n",
    "    fig = go.Figure(\n",
    "            data=[\n",
    "                go.Bar(\n",
    "                    x = np.arange(len(backtest_df)),\n",
    "                    y = backtest_df[\"Capital\"],\n",
    "                    name = \"Resultado Apuesta\",\n",
    "                    marker = dict(color = [1 if backtest_df[\"Resultado\"][i] == \"ganada\" else 2 for i in range(len(backtest_df))],\n",
    "                                line=dict(color='rgb(0,0,0)',width=1.5)),\n",
    "                    text = backtest_df[\"Operación\"],\n",
    "                    hovertext = backtest_df[\"Resultado\"]\n",
    "                    \n",
    "                )\n",
    "            ]\n",
    "        )\n",
    "    fig.update_layout(\n",
    "            xaxis_title = \"Operación no.\",\n",
    "            yaxis_title = \"Valor\",\n",
    "            title = title\n",
    "        )\n",
    "    return fig"
   ]
  }
 ],
 "metadata": {
  "kernelspec": {
   "display_name": "Python 3",
   "language": "python",
   "name": "python3"
  },
  "language_info": {
   "codemirror_mode": {
    "name": "ipython",
    "version": 3
   },
   "file_extension": ".py",
   "mimetype": "text/x-python",
   "name": "python",
   "nbconvert_exporter": "python",
   "pygments_lexer": "ipython3",
   "version": "3.8.5"
  }
 },
 "nbformat": 4,
 "nbformat_minor": 2
}
